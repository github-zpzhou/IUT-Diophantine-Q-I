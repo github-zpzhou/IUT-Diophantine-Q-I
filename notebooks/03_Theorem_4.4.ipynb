{
 "cells": [
  {
   "cell_type": "code",
   "execution_count": 1,
   "metadata": {},
   "outputs": [],
   "source": [
    "import sys\n",
    "import os\n",
    "\n",
    "parent_dir = os.path.abspath(os.path.join(os.getcwd(), '..'))\n",
    "sys.path.append(parent_dir)\n",
    "\n",
    "from utils import *"
   ]
  },
  {
   "cell_type": "markdown",
   "metadata": {},
   "source": [
    "Based on Lemma 4.3, the following code computes the interval which the value of $\\log(N)$ cannot belong to, and then provides upper bounds for $\\log(N)$.\n",
    "\n",
    "Here $N = |abc|/\\gcd(16,abc)$, thus $\\log(|abc|) \\le \\log(N)+\\log(16)$, hence we can also get upper bounds for $\\log(abc)$."
   ]
  },
  {
   "cell_type": "code",
   "execution_count": 2,
   "metadata": {},
   "outputs": [],
   "source": [
    "e0 = 3\n",
    "\n",
    "def get_ramification_dataset1(l):\n",
    "    # the case of general Frey-Hellegouarch curves\n",
    "    ep_range = dict()\n",
    "    ep_range['general'] = {'good':[1], 'multi':[1,3,l,3*l]} # general ramification indices, e0 = 3\n",
    "    ep_range[2] = {'good':[2,4,6,8,12,16,24,48], 'multi':[2,6,2*l,6*l]}\n",
    "    ep_range[3] = {'good':[2,6,8], 'multi':[2,6,2*l,6*l]}\n",
    "    ep_range[l] = {'good':[l-1,l*(l-1),l*l-1], 'multi':[l-1,3*(l-1),l*(l-1),3*l*(l-1)]}\n",
    "    return ep_range\n",
    "\n",
    "def get_ramification_dataset2(l):\n",
    "    # the case of semi-stable Frey-Hellegouarch curves\n",
    "    ep_range = dict()\n",
    "    ep_range['general'] = {'good':[1], 'multi':[1,3,l,3*l]} # general ramification indices, e0 = 3\n",
    "    ep_range[2] = {'good':[2], 'multi':[2,6,2*l,6*l]}\n",
    "    ep_range[3] = {'good':[2,6,8], 'multi':[2,6,2*l,6*l]}\n",
    "    ep_range[l] = {'good':[l-1,l*(l-1),l*l-1], 'multi':[l-1,3*(l-1),l*(l-1),3*l*(l-1)]}\n",
    "    return ep_range"
   ]
  },
  {
   "cell_type": "code",
   "execution_count": null,
   "metadata": {},
   "outputs": [],
   "source": [
    "# compute log-volumes\n",
    "list_of_f2_1e4 = list_of_f2(pow(10,5)) # recall that f2 is an upper bound of log-volume\n",
    "\n",
    "# case 1\n",
    "my_log_volumes1 = dict()\n",
    "for p in tqdm(primes(pow(10,5))):\n",
    "    if p >= 5 and p <= 50:\n",
    "        my_log_volumes1[p] = compute_log_volume(get_ramification_dataset1, e0, p)\n",
    "    elif p > 50:\n",
    "        my_log_volumes1[p] = list_of_f2_1e4[p]\n",
    "\n",
    "# case 2\n",
    "my_log_volumes2 = dict()\n",
    "for p in tqdm(primes(pow(10,5))):\n",
    "    if p >= 5 and p <= 50:\n",
    "        my_log_volumes2[p] = compute_log_volume(get_ramification_dataset2, e0, p)\n",
    "    elif p > 50:\n",
    "        my_log_volumes2[p] = list_of_f2_1e4[p]"
   ]
  },
  {
   "cell_type": "markdown",
   "metadata": {},
   "source": [
    "We shall assume that $s\\ge r$."
   ]
  },
  {
   "cell_type": "code",
   "execution_count": 4,
   "metadata": {},
   "outputs": [],
   "source": [
    "def bound_of_log_N(r, t, is_using_t_eq_r = False, s = 0):\n",
    "    is_semistable_over_Q = min(r,t) >= 4\n",
    "    \n",
    "    if is_semistable_over_Q:\n",
    "        my_primes = [p for p in primes(2000) if p >= 11]\n",
    "        my_log_volumes = my_log_volumes2.copy()\n",
    "    else:\n",
    "        my_primes = [p for p in primes(2000) if p >= 11 and p != 13]\n",
    "        my_log_volumes = my_log_volumes1.copy()\n",
    "    \n",
    "    intervals = []\n",
    "    arr_S = []\n",
    "    for n in range(2,20):\n",
    "        for k in range(len(my_primes)-n):\n",
    "            arr_S.append(my_primes[k:k+n])\n",
    "    for k in range(len(arr_S)):\n",
    "        S = sorted(list(arr_S[k]))\n",
    "        n = len(S)\n",
    "        a1 = 0\n",
    "        a2 = 0\n",
    "        a3 = 0\n",
    "        for p in S:\n",
    "            a1 += (11*p+31) / (p*p+p-12)\n",
    "            a2 += my_log_volumes[p]  \n",
    "            a3 += log(p)\n",
    "        a1 = a1 / n\n",
    "        a2 = 3 * a2 / n\n",
    "        a3 = a3\n",
    "\n",
    "        p0 = S[0]\n",
    "        if r >= t:\n",
    "            b1 = max(2/n+(3+a1)/p0, ((3+a1)/t + 2/n+(3+a1)/p0)/2, (3+a1)*(1/r+1/t)/2 )\n",
    "        else: # r < t\n",
    "            b1 = max(2/n+(3+a1)/p0, (3+a1)/r * 2/3 + (2/n+(3+a1)/p0)/3, (3+a1)*(1/r * 2/3 + 1/t / 3) )\n",
    "\n",
    "        # is_using_t_eq_r\n",
    "        if r == t and is_using_t_eq_r:\n",
    "            b1 = max(2/n+(3+a1)/p0, (2/n+(3+a1)/p0)*(t-1)/(3*t-1) + (3+a1)*2/(3*t-1), (3+a1)*(2+(t-1)/s)/(3*t-1))\n",
    "        b2 = a2 + (3+a1)*(a3+log(16)/min(r,t))\n",
    "\n",
    "        if b1>=1:\n",
    "            continue\n",
    "        upper_bound = p0*S[1]*log(2)\n",
    "        lower_bound = b2 / (1-b1)\n",
    "        if lower_bound > upper_bound:\n",
    "            continue\n",
    "        intervals.append([lower_bound,upper_bound])\n",
    "\n",
    "    res = merge_intervals(intervals)\n",
    "    return res\n",
    "\n",
    "def bound_of_log_abc(r, t, is_using_t_eq_r = False, s = 0):\n",
    "    intervals = bound_of_log_N(r, t, is_using_t_eq_r, s)\n",
    "    if len(intervals) == 0:\n",
    "        print(\"Error: no impossible interval\")\n",
    "        return -999\n",
    "    if intervals[-1][1] <= 10^6:\n",
    "        # check that the interval of impossible values of \\log(N) covers 10^6 \n",
    "        print(\"Error: existing possible \\log(N) near 10^6\")\n",
    "    return intervals[-1][0] + log(16)    "
   ]
  },
  {
   "cell_type": "code",
   "execution_count": null,
   "metadata": {},
   "outputs": [],
   "source": [
    "# upper bound B(r,t) for given (r,t), where r <= s and (r,t) != (3,3)\n",
    "# by the definition of b1 in the above code, we can see that: \n",
    "# when r <= t < t1, we have B(r,t) <= B(r,t1); when t <= r < t1, we have B(r,t) <= B(r1,t) \n",
    "for r in range(3,10):\n",
    "    for t in range(3,10):\n",
    "        if r == 3 and t == 3:\n",
    "            print(f'({r},{t}): NaN, ', end='')\n",
    "            continue\n",
    "        print(f'({r},{t}): {ceil(bound_of_log_abc(r,t)+0.1):4d}, ', end='')\n",
    "    print()"
   ]
  },
  {
   "cell_type": "code",
   "execution_count": null,
   "metadata": {},
   "outputs": [],
   "source": [
    "r,t = 3,3\n",
    "for s in range(4,10):\n",
    "    print(f'({r},{s},{t}): {ceil(bound_of_log_abc(r,t,True,s)+0.1)}')"
   ]
  },
  {
   "cell_type": "markdown",
   "metadata": {},
   "source": [
    "Hence when $(\\min\\{r,s\\},t) = (3,3)$, we have $f(r,s,t) \\le 24626$."
   ]
  }
 ],
 "metadata": {
  "kernelspec": {
   "display_name": "base",
   "language": "python",
   "name": "python3"
  },
  "language_info": {
   "codemirror_mode": {
    "name": "ipython",
    "version": 3
   },
   "file_extension": ".py",
   "mimetype": "text/x-python",
   "name": "python",
   "nbconvert_exporter": "python",
   "pygments_lexer": "ipython3",
   "version": "3.8.8"
  }
 },
 "nbformat": 4,
 "nbformat_minor": 2
}
