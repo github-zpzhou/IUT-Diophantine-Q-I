{
 "cells": [
  {
   "cell_type": "code",
   "execution_count": 12,
   "metadata": {},
   "outputs": [],
   "source": [
    "import sys\n",
    "import os\n",
    "\n",
    "parent_dir = os.path.abspath(os.path.join(os.getcwd(), '..'))\n",
    "sys.path.append(parent_dir)\n",
    "\n",
    "from utils import *\n",
    "from inspect import getsource"
   ]
  },
  {
   "cell_type": "markdown",
   "metadata": {},
   "source": [
    "We shall define the functions $f_1(x)$ and $f_2(x)$."
   ]
  },
  {
   "cell_type": "code",
   "execution_count": null,
   "metadata": {},
   "outputs": [],
   "source": [
    "print(getsource(list_of_f1))\n",
    "print(getsource(list_of_f2))"
   ]
  },
  {
   "cell_type": "markdown",
   "metadata": {},
   "source": [
    "The following code verifies the inequality\n",
    "$$\\sum_{p\\le A} p\\cdot\\log(p) - (\\frac{1}{2}+\\frac{1.515 \\epsilon}{\\log(A)}) A^2 \n",
    "    > -\\frac{0.008 \\epsilon \\cdot (10\\cdot A)^2}{\\log(10\\cdot A)}.$$"
   ]
  },
  {
   "cell_type": "code",
   "execution_count": 14,
   "metadata": {},
   "outputs": [],
   "source": [
    "A = 28900000\n",
    "eps = 0.006788\n",
    "primes_A = primes(A)"
   ]
  },
  {
   "cell_type": "code",
   "execution_count": null,
   "metadata": {},
   "outputs": [],
   "source": [
    "sum = 0\n",
    "for p in primes_A:\n",
    "    sum += p * log(p)\n",
    "res = sum - (0.5 + 0.485*eps/log(A)) * pow(A,2)\n",
    "res = res * log(10*A) / pow(10*A,2) / eps \n",
    "print(res)\n",
    "print(res > - 0.008)"
   ]
  },
  {
   "cell_type": "markdown",
   "metadata": {},
   "source": [
    "The following code verifies the inequality\n",
    "$$\\sum_{p\\le A} \\frac{\\log(p)}{p(p-1)} + \\frac{1}{\\sqrt{A}} < 0.8. $$"
   ]
  },
  {
   "cell_type": "code",
   "execution_count": null,
   "metadata": {},
   "outputs": [],
   "source": [
    "sum = 0\n",
    "for p in primes_A:\n",
    "    sum += log(p) / (p * (p-1))\n",
    "res = sum + 1 / sqrt(A)\n",
    "print(res)\n",
    "print(res<0.8)"
   ]
  },
  {
   "cell_type": "markdown",
   "metadata": {},
   "source": [
    "The following code verifies the inequality\n",
    "$$f_1(n) < \\frac{1}{2}\\cdot n + 0.01865 \\cdot \\frac{n}{\\log(n)}, \\quad 2\\cdot 10^5 \\le n \\le 10\\cdot A.$$\n"
   ]
  },
  {
   "cell_type": "code",
   "execution_count": null,
   "metadata": {},
   "outputs": [],
   "source": [
    "list_of_f1_10A = list_of_f1(10 * A)\n",
    "\n",
    "flag = True\n",
    "for n, f1_n in zip(trange(10*A+1),list_of_f1_10A):\n",
    "    if n < 200000:\n",
    "        continue\n",
    "    diff = f1_n - (0.5 * n + 0.01865 * n / log(n))\n",
    "    if diff > - 0.01:\n",
    "        flag = False\n",
    "        print(n, diff)\n",
    "print(flag)"
   ]
  }
 ],
 "metadata": {
  "kernelspec": {
   "display_name": "base",
   "language": "python",
   "name": "python3"
  },
  "language_info": {
   "codemirror_mode": {
    "name": "ipython",
    "version": 3
   },
   "file_extension": ".py",
   "mimetype": "text/x-python",
   "name": "python",
   "nbconvert_exporter": "python",
   "pygments_lexer": "ipython3",
   "version": "3.8.8"
  }
 },
 "nbformat": 4,
 "nbformat_minor": 2
}
