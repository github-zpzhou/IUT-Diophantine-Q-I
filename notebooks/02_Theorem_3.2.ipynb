{
 "cells": [
  {
   "cell_type": "code",
   "execution_count": 1,
   "metadata": {},
   "outputs": [],
   "source": [
    "import sys\n",
    "import os\n",
    "\n",
    "parent_dir = os.path.abspath(os.path.join(os.getcwd(), '..'))\n",
    "sys.path.append(parent_dir)\n",
    "\n",
    "from utils import *"
   ]
  },
  {
   "cell_type": "markdown",
   "metadata": {},
   "source": [
    "We shall compute the upper bounds for $$(h-3\\log\\text{rad}(N) + 4\\log(2)) / \\sqrt{h \\log(h)}.$$"
   ]
  },
  {
   "cell_type": "code",
   "execution_count": null,
   "metadata": {},
   "outputs": [],
   "source": [
    "list_of_f2_3e7 = list_of_f2(3*pow(10,7))\n",
    "\n",
    "my_primes = []\n",
    "for p in primes(3*pow(10,7)):\n",
    "    if p >= 11 and p != 13:\n",
    "        my_primes.append(p)\n",
    "N = len(my_primes)"
   ]
  },
  {
   "cell_type": "markdown",
   "metadata": {},
   "source": [
    "Let $p_0 < \\cdots < p_{N-1}$ the the primes in the list *my_primes*.\n",
    "For each $0\\le t \\le N-1$, when $p_t \\cdot p_{t+1} > h / \\log(2)$,\n",
    "put $k = 2$, $S=\\{p_t, \\dots, p_{t+n-1}\\}$ for some choice of $2 \\le n = |S| \\le N+1-t$,\n",
    "then we can apply Lemma 3.1 $(ii)$ to get the inequality\n",
    "$$ h \\le (3+a_1)\\cdot \\log\\text{rad}(N) + a_2 + \\frac{2h}{n},$$\n",
    "hence [by multiplying $3$, adding $a_1\\cdot h$, and dividing $3+a_1$, we have]\n",
    "$$ h \\le 3 \\cdot \\log\\text{rad}(N) + \\frac{a_1+6n^{-1}}{3+a_1}\\cdot h +\\frac{3a_2}{3+a_1}.$$\n",
    "\n",
    "\n",
    "Let $h_1 = p_s*p_{s+1}*\\log(2)$, $1 < h_0 < h_1$. \n",
    "Then for any $h_0\\le h < h_1$, we have \n",
    "$$h - 3\\cdot \\log\\text{rad}(N) + 4\\log(2) \\le a_h\\cdot \\sqrt{h\\log(h)},$$\n",
    "where we can take $$a_h = \\frac{a_1+6n^{-1}}{3+a_1}\\cdot \\sqrt{\\frac{h_1}{\\log(h_1)}}\n",
    "+(\\frac{3a_2}{3+a_1}+4\\log(2) )\\cdot \\sqrt{\\frac{1}{h_0\\log(h_0)}}.$$"
   ]
  },
  {
   "cell_type": "markdown",
   "metadata": {},
   "source": [
    "The following code verifies the inequality\n",
    "$$h - 3\\cdot \\log\\text{rad}(N) + 4\\log(2) < 8 \\cdot \\sqrt{h\\log(h)}$$\n",
    "for $680 \\le h \\le e^{31}$."
   ]
  },
  {
   "cell_type": "code",
   "execution_count": null,
   "metadata": {},
   "outputs": [],
   "source": [
    "list_of_diff_info = []\n",
    "choice_of_t = [0]\n",
    "tmp = 0\n",
    "for t in range(500000):\n",
    "    if t - tmp < t/20 and t>100:\n",
    "        continue\n",
    "    choice_of_t.append(t)\n",
    "    tmp = t\n",
    "\n",
    "h0, h1 = 100, 100\n",
    "for t in tqdm(choice_of_t):        \n",
    "    p0 = my_primes[t]\n",
    "    p1 = my_primes[t+1]\n",
    "    n = int(3 / 2 * p0 / log(p0)-4)\n",
    "    if t + n > N:\n",
    "        print(\"Error!\")\n",
    "    a1 = 0\n",
    "    a2 = 0\n",
    "    for i in range(n):\n",
    "        p = my_primes[t+i]\n",
    "        a1 += (11*p*+31)/(p*p*p+p*p-12*p)\n",
    "        a2 += list_of_f2_3e7[p] # \n",
    "    a1 = a1 / n/2\n",
    "    a2 = 3 * a2 / n\n",
    "    h0 = h1\n",
    "    h1 = p0*p1*log(2)\n",
    "    if h0 == h1:\n",
    "        continue\n",
    "    if h0 > 1000:\n",
    "        hl, hr = h0, h1\n",
    "        diff = (a1+6/n)/(3+a1)*sqrt(hr/log(hr)) + (a2+4*log(2))/sqrt(hl*log(hl))\n",
    "        list_of_diff_info.append([hl,hr,diff])\n",
    "    else:\n",
    "        for i in range(100):\n",
    "            hl = h0 + (h1-h0)*i/100\n",
    "            hr = h0 + (h1-h0)*(i+1)/100\n",
    "            diff = (a1+6/n)/(3+a1)*sqrt(hr/log(hr)) + (a2+4*log(2))/sqrt(hl*log(hl))\n",
    "            if hr < 500:\n",
    "                continue\n",
    "            list_of_diff_info.append([hl,hr,diff])\n",
    "\n",
    "print(list_of_diff_info)"
   ]
  },
  {
   "cell_type": "code",
   "execution_count": null,
   "metadata": {},
   "outputs": [],
   "source": [
    "# check whether $h\\le e^{31}$ is covered\n",
    "print(\"Is the $h <= e^31$ covered? \", log(list_of_diff_info[-1][1])>31, log(list_of_diff_info[-1][1]))\n",
    "# check that $\\alpha_h < 8$\n",
    "flag = True\n",
    "for diff_info in list_of_diff_info:\n",
    "    if diff_info[1] <= 680:\n",
    "        continue\n",
    "    if diff_info[2] > 7.95:\n",
    "        flag = False\n",
    "        print(diff_info)\n",
    "print(flag)"
   ]
  }
 ],
 "metadata": {
  "kernelspec": {
   "display_name": "base",
   "language": "python",
   "name": "python3"
  },
  "language_info": {
   "codemirror_mode": {
    "name": "ipython",
    "version": 3
   },
   "file_extension": ".py",
   "mimetype": "text/x-python",
   "name": "python",
   "nbconvert_exporter": "python",
   "pygments_lexer": "ipython3",
   "version": "3.8.8"
  }
 },
 "nbformat": 4,
 "nbformat_minor": 2
}
