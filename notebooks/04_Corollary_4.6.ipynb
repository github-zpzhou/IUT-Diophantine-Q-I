{
 "cells": [
  {
   "cell_type": "code",
   "execution_count": 1,
   "metadata": {},
   "outputs": [],
   "source": [
    "import sys\n",
    "import os\n",
    "\n",
    "parent_dir = os.path.abspath(os.path.join(os.getcwd(), '..'))\n",
    "sys.path.append(parent_dir)\n",
    "\n",
    "from utils import *\n",
    "import time"
   ]
  },
  {
   "cell_type": "markdown",
   "metadata": {},
   "source": [
    "We shall show that for any positive integers $r, s, t\\ge 20$, \n",
    "there does not exist any triple $(x, y, z)$ of positive coprime integers that satisﬁes the generalized Fermat equation\n",
    "$$x^r + y^s = z^t.$$"
   ]
  },
  {
   "cell_type": "markdown",
   "metadata": {},
   "source": [
    "Note that we must have $\\log(x^r y^s z^t) < 600$.\n",
    "\n",
    "Then since $x, y, z \\ge 2$ by Catalan's conjecture (now Mihăilescu's theorem), we have $x^r y^s > z^t$, hence\n",
    "$$2^{20} \\le x^r,y^s < z^t \\le \\exp(300).$$"
   ]
  },
  {
   "cell_type": "markdown",
   "metadata": {},
   "source": [
    "Let $S$ be the set of all possible integers of the form $x^r \\le \\exp(300)$, where $x, r$ are positive integers auch that $r \\ge 20$. \n",
    "\n",
    "Then we only need to search for the potential triples of coprime positive integers $a,b,c\\in S$, such that $a + b = c$."
   ]
  },
  {
   "cell_type": "code",
   "execution_count": 2,
   "metadata": {},
   "outputs": [],
   "source": [
    "bound = 600\n",
    "half_bound = bound / 2\n",
    "N = int(exp(half_bound))\n",
    "\n",
    "def search(u0):\n",
    "    # search for positive coprime solutions of x^r + y^s = z^t, where r,s,t >= u0 >= 8\n",
    "    Q_dict = dict() # Q[x^r] = (x,r)\n",
    "    # Q_dict[1] = (1, 1) # 1^1 = 1\n",
    "    for base in range(2, int(exp(half_bound/u0))+1):\n",
    "        power = u0\n",
    "        xr = pow(base, u0)\n",
    "        while (xr <= N):\n",
    "            Q_dict[xr] = (base, power)\n",
    "            xr *= base\n",
    "            power += 1\n",
    "\n",
    "    # find xr + ys = zt in Q, where xr <= ys <= zt\n",
    "    Q_list = sorted(Q_dict.keys())\n",
    "    print(f\"Q = {len(Q_list)}\")\n",
    "\n",
    "    flag = False\n",
    "    print(f\"Search started for r,s,t >= {u0}:\")\n",
    "    solutions = []\n",
    "    for xr in tqdm([xr for xr in Q_list if pow(xr,3) <= pow(N,2)]):\n",
    "        ys_upperbound = N / sqrt(xr) + 1 # since xr * ys^2 < xr * ys * zt <= N^2\n",
    "        if xr > ys_upperbound:\n",
    "            break\n",
    "        for ys in Q_list:\n",
    "            if ys > ys_upperbound:\n",
    "                break\n",
    "            if ys < xr:\n",
    "                continue\n",
    "            if xr + ys in Q_dict and gcd(Q_dict[xr][0],Q_dict[ys][0]) == 1:\n",
    "                zt = xr + ys\n",
    "                print(f\"{Q_dict[xr][0]}^{Q_dict[xr][1]} + {Q_dict[ys][0]} ^ {Q_dict[ys][1]} = {Q_dict[zt][0]} ^ {Q_dict[zt][1]}\")\n",
    "                flag = True\n",
    "                solutions.append((xr,ys,zt))\n",
    "    print(f\"Search ended, find {len(solutions)} solution(s).\")\n",
    "    return flag"
   ]
  },
  {
   "cell_type": "code",
   "execution_count": null,
   "metadata": {},
   "outputs": [],
   "source": [
    "_ = search(30)"
   ]
  },
  {
   "cell_type": "code",
   "execution_count": null,
   "metadata": {},
   "outputs": [],
   "source": [
    "_ = search(25)"
   ]
  },
  {
   "cell_type": "code",
   "execution_count": null,
   "metadata": {},
   "outputs": [],
   "source": [
    "_ = search(20)"
   ]
  }
 ],
 "metadata": {
  "kernelspec": {
   "display_name": "base",
   "language": "python",
   "name": "python3"
  },
  "language_info": {
   "codemirror_mode": {
    "name": "ipython",
    "version": 3
   },
   "file_extension": ".py",
   "mimetype": "text/x-python",
   "name": "python",
   "nbconvert_exporter": "python",
   "pygments_lexer": "ipython3",
   "version": "3.8.8"
  }
 },
 "nbformat": 4,
 "nbformat_minor": 2
}
